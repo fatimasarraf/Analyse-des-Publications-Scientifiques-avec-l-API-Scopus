{
 "cells": [
  {
   "cell_type": "markdown",
   "id": "b636f982",
   "metadata": {},
   "source": [
    " ###  Transformations en document RDF pour les 10 premières publications du sujet \"COMP\""
   ]
  },
  {
   "cell_type": "code",
   "execution_count": 32,
   "id": "6d321250",
   "metadata": {},
   "outputs": [
    {
     "name": "stdout",
     "output_type": "stream",
     "text": [
      "RDF data has been written to publications_COMP.rdf\n"
     ]
    },
    {
     "data": {
      "text/plain": [
       "'publications_COMP.rdf'"
      ]
     },
     "execution_count": 32,
     "metadata": {},
     "output_type": "execute_result"
    }
   ],
   "source": [
    "import pandas as pd\n",
    "from rdflib import Graph, Literal, RDF, URIRef, Namespace\n",
    "from rdflib.namespace import DC, FOAF, DCTERMS, XSD\n",
    "import urllib.parse\n",
    "\n",
    "BIBO = Namespace('http://purl.org/ontology/bibo/')\n",
    "EX = Namespace('http://example.org/')\n",
    "\n",
    "def clean_uri(uri):\n",
    "    return urllib.parse.quote(uri)\n",
    "\n",
    "def create_rdf_graph(publications_df, file_name):\n",
    "    g = Graph()\n",
    "    g.bind('dcterms', DCTERMS)\n",
    "    g.bind('foaf', FOAF)\n",
    "    g.bind('bibo', BIBO)\n",
    "    g.bind('ex', EX)\n",
    "    \n",
    "    for idx, row in publications_df.iterrows():\n",
    "        publication_uri = URIRef(f\"http://example.org/publication/{idx}\")\n",
    "        \n",
    "        g.add((publication_uri, RDF.type, BIBO.Document))\n",
    "        g.add((publication_uri, DCTERMS.subject, Literal(row['topic'])))\n",
    "        g.add((publication_uri, DCTERMS.title, Literal(row['title'])))\n",
    "        g.add((publication_uri, DCTERMS.isPartOf, Literal(row['publicationName'])))\n",
    "        g.add((publication_uri, BIBO.doi, Literal(row['doi'])))\n",
    "        \n",
    "        if pd.notna(row['volume']):\n",
    "            g.add((publication_uri, BIBO.volume, Literal(row['volume'])))\n",
    "        if pd.notna(row['issue']):\n",
    "            g.add((publication_uri, BIBO.issue, Literal(row['issue'])))\n",
    "        if pd.notna(row['pageRange']):\n",
    "            g.add((publication_uri, BIBO.pages, Literal(row['pageRange'])))\n",
    "        g.add((publication_uri, DCTERMS.date, Literal(row['coverDate'])))\n",
    "        g.add((publication_uri, BIBO.citedBy, Literal(row['citedbyCount'], datatype=XSD.integer)))\n",
    "        \n",
    "        if pd.notna(row['authors']):\n",
    "            authors = row['authors'].split(', ')\n",
    "            for author in authors:\n",
    "                author_uri = URIRef(f\"http://example.org/author/{clean_uri(author.replace(' ', '_'))}\")\n",
    "                g.add((author_uri, RDF.type, FOAF.Person))\n",
    "                g.add((author_uri, FOAF.name, Literal(author)))\n",
    "                g.add((publication_uri, DCTERMS.creator, author_uri))\n",
    "                \n",
    "                if pd.notna(row['affiliation']):\n",
    "                    affiliations = eval(row['affiliation'])\n",
    "                    for affiliation in affiliations:\n",
    "                        affilname = affiliation['affilname']\n",
    "                        affiliation_uri = URIRef(f\"http://example.org/affiliation/{clean_uri(affilname.replace(' ', '_'))}\")\n",
    "                        g.add((affiliation_uri, RDF.type, FOAF.Organization))\n",
    "                        g.add((affiliation_uri, FOAF.name, Literal(affilname)))\n",
    "                        g.add((author_uri, FOAF.member, affiliation_uri))\n",
    "    rdf_output_path = f'{file_name}.rdf'\n",
    "    g.serialize(destination=rdf_output_path, format='xml')\n",
    "\n",
    "    print(f\"RDF data has been written to {rdf_output_path}\")\n",
    "\n",
    "file_path = 'publications_preprocessed.csv'\n",
    "publications_df = pd.read_csv(file_path)\n",
    "\n",
    "topic_to_filter = 'COMP'  \n",
    "\n",
    "filtered_df = publications_df[publications_df['topic'] == topic_to_filter].head(1)\n",
    "\n",
    "create_rdf_graph(filtered_df, f'publications_{topic_to_filter}')\n",
    "\n",
    "rdf_output_path = f'publications_COMP.rdf'\n",
    "rdf_output_path\n"
   ]
  },
  {
   "cell_type": "markdown",
   "id": "0ca1aad6",
   "metadata": {},
   "source": [
    " #### Transformations en document RDF"
   ]
  },
  {
   "cell_type": "code",
   "execution_count": 30,
   "id": "54285a54",
   "metadata": {},
   "outputs": [
    {
     "name": "stdout",
     "output_type": "stream",
     "text": [
      "RDF data has been written to publicationsenRDF.rdf\n"
     ]
    }
   ],
   "source": [
    "import pandas as pd\n",
    "from rdflib import Graph, Literal, RDF, URIRef, Namespace\n",
    "from rdflib.namespace import DC, FOAF, DCTERMS, XSD\n",
    "import urllib.parse\n",
    "\n",
    "BIBO = Namespace('http://purl.org/ontology/bibo/')\n",
    "EX = Namespace('http://example.org/')\n",
    "\n",
    "def clean_uri(uri):\n",
    "    return urllib.parse.quote(uri)\n",
    "\n",
    "g = Graph()\n",
    "g.bind('dcterms', DCTERMS)\n",
    "g.bind('foaf', FOAF)\n",
    "g.bind('bibo', BIBO)\n",
    "g.bind('ex', EX)\n",
    "\n",
    "file_path = 'publications_preprocessed.csv'  \n",
    "publications_df = pd.read_csv(file_path)\n",
    "\n",
    "for idx, row in publications_df.iterrows():\n",
    "    publication_uri = URIRef(f\"http://example.org/publication/{idx}\")\n",
    "    \n",
    "    g.add((publication_uri, RDF.type, BIBO.Document))\n",
    "    g.add((publication_uri,DCTEMS.subject, Literal(row['topic'])))\n",
    "    g.add((publication_uri, DCTERMS.title, Literal(row['title'])))\n",
    "    g.add((publication_uri, DCTERMS.isPartOf, Literal(row['publicationName'])))\n",
    "    g.add((publication_uri, BIBO.doi, Literal(row['doi'])))\n",
    "    \n",
    "    if pd.notna(row['volume']):\n",
    "        g.add((publication_uri, BIBO.volume, Literal(row['volume'])))\n",
    "    if pd.notna(row['issue']):\n",
    "        g.add((publication_uri, BIBO.issue, Literal(row['issue'])))\n",
    "    if pd.notna(row['pageRange']):\n",
    "        g.add((publication_uri, BIBO.pages, Literal(row['pageRange'])))\n",
    "    g.add((publication_uri, DCTERMS.date, Literal(row['coverDate'])))\n",
    "    g.add((publication_uri, BIBO.citedBy, Literal(row['citedbyCount'], datatype=XSD.integer)))\n",
    "    \n",
    "    if pd.notna(row['authors']):\n",
    "        authors = row['authors'].split(', ')\n",
    "        for author in authors:\n",
    "            author_uri = URIRef(f\"http://example.org/author/{clean_uri(author.replace(' ', '_'))}\")\n",
    "            g.add((author_uri, RDF.type, FOAF.Person))\n",
    "            g.add((author_uri, FOAF.name, Literal(author)))\n",
    "            g.add((publication_uri, DCTERMS.creator, author_uri))\n",
    "            \n",
    "            if pd.notna(row['affiliation']):\n",
    "                affiliations = eval(row['affiliation'])\n",
    "                for affiliation in affiliations:\n",
    "                    affilname = affiliation['affilname']\n",
    "                    affiliation_uri = URIRef(f\"http://example.org/affiliation/{clean_uri(affilname.replace(' ', '_'))}\")\n",
    "                    g.add((affiliation_uri, RDF.type, FOAF.Organization))\n",
    "                    g.add((affiliation_uri, FOAF.name, Literal(affilname)))\n",
    "                    g.add((author_uri, FOAF.member, affiliation_uri))\n",
    "\n",
    "rdf_output_path = 'publicationsenRDF.rdf' \n",
    "g.serialize(destination=rdf_output_path, format='xml')\n",
    "\n",
    "print(f\"RDF data has been written to {rdf_output_path}\")\n"
   ]
  },
  {
   "cell_type": "code",
   "execution_count": null,
   "id": "e31b291c",
   "metadata": {},
   "outputs": [],
   "source": []
  }
 ],
 "metadata": {
  "kernelspec": {
   "display_name": "Python 3 (ipykernel)",
   "language": "python",
   "name": "python3"
  },
  "language_info": {
   "codemirror_mode": {
    "name": "ipython",
    "version": 3
   },
   "file_extension": ".py",
   "mimetype": "text/x-python",
   "name": "python",
   "nbconvert_exporter": "python",
   "pygments_lexer": "ipython3",
   "version": "3.10.9"
  }
 },
 "nbformat": 4,
 "nbformat_minor": 5
}
